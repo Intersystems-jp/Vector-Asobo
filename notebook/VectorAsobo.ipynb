{
 "cells": [
  {
   "cell_type": "markdown",
   "id": "883d5881-2502-4841-9dab-1e270f8b62fd",
   "metadata": {},
   "source": [
    "# この魚は何だろう"
   ]
  },
  {
   "cell_type": "code",
   "execution_count": null,
   "id": "3529ab5f-2f1b-4ccb-a7c5-d9b129fcdfad",
   "metadata": {},
   "outputs": [],
   "source": [
    "import iris \n",
    "import io\n",
    "import requests\n",
    "from PIL import Image\n",
    "import torch\n",
    "from transformers import AutoImageProcessor, AutoModel, AutoTokenizer"
   ]
  },
  {
   "cell_type": "code",
   "execution_count": null,
   "id": "2f008fdf-852a-4546-9ca0-7e671fadcf9b",
   "metadata": {},
   "outputs": [],
   "source": [
    "from iris_config import IRIS_USER, IRIS_PASSWORD, IRIS_CONN_STR"
   ]
  },
  {
   "cell_type": "code",
   "execution_count": null,
   "id": "2050807c-354a-4982-9336-31176c31ddba",
   "metadata": {},
   "outputs": [],
   "source": [
    "\n",
    "# LINEヤフーさんが提供している日本語対応のCLIPモデルを利用\n",
    "HF_MODEL_PATH = 'line-corporation/clip-japanese-base'\n",
    "device = \"cuda\" if torch.cuda.is_available() else \"cpu\"\n",
    "# トークナイザー(テキストをモデル入力用のトークンに変換する役割)の読み込み\n",
    "tokenizer = AutoTokenizer.from_pretrained(HF_MODEL_PATH, trust_remote_code=True)\n",
    "# 画像前処理（リサイズ・正規化など） を行うプロセッサーを読み込み\n",
    "processor = AutoImageProcessor.from_pretrained(HF_MODEL_PATH, trust_remote_code=True)\n",
    "# CLIP モデル本体を読み込み、指定したデバイス（CPU/GPU）に配置\n",
    "model = AutoModel.from_pretrained(HF_MODEL_PATH, trust_remote_code=True).to(device)\n"
   ]
  },
  {
   "cell_type": "code",
   "execution_count": null,
   "id": "07c3bb16-61e8-4547-96da-a1525c12939c",
   "metadata": {},
   "outputs": [],
   "source": [
    "### 特徴ベクターを引数として、類似するものを取得\n",
    "def get_similar_desc(conn, emb_str):\n",
    "    try:\n",
    "        sql = (\"SELECT TOP 3 Name,VECTOR_COSINE(Features,TO_VECTOR(?,double)) FROM FishSearch.Fish fish \"\n",
    "        \"ORDER BY VECTOR_COSINE(Features,TO_VECTOR(?,double)) DESC\"\n",
    "              )\n",
    "\n",
    "        with conn.cursor() as cursor:\n",
    "            cursor.execute(sql, [emb_str, emb_str])\n",
    "            results = cursor.fetchall()\n",
    "            retrieved_info = \"\\n\".join(f\"【魚の名前候補】 {row[0]} 【類似度スコア】 {row[1]}\" for row in results)\n",
    "\n",
    "        return retrieved_info\n",
    "\n",
    "    except Exception as e:\n",
    "        return f\"Error: {str(e)}\""
   ]
  },
  {
   "cell_type": "code",
   "execution_count": null,
   "id": "9677ac2c-e584-414b-8216-3c0f88b4dd42",
   "metadata": {},
   "outputs": [],
   "source": [
    "# 魚１ (スーパーで購入した魚)\n",
    "image_path = \"../datasets/super/1-IMG_20250712_175805466_AE3.png\"\n",
    "\n",
    "# 魚2 (スーパーで購入した魚)\n",
    "#image_path=\"../datasets/super/2-IMG_20250712_175653584_B.jpg\"\n",
    "\n",
    "# 魚3（Wikipediaより取得 - 出典: サフィルによる著作物, \"File:Hirame flatfish front.JPG\", CC BY-SA 4.0)\n",
    "# Link: https://commons.wikimedia.org/w/index.php?curid=45580662\n",
    "#image_path = \"../datasets/Wikipedia/image/ヒラメ.jpeg\"\n",
    "\n",
    "image = Image.open(image_path)\n",
    "# イメージを表示\n",
    "image.thumbnail((500, 300))\n",
    "image"
   ]
  },
  {
   "cell_type": "code",
   "execution_count": null,
   "id": "44549974-c30c-4fc4-89a8-66aa436d1a05",
   "metadata": {},
   "outputs": [],
   "source": [
    "# 画像をモデルの入力用テンソル形式に変換\n",
    "image = processor(image, return_tensors=\"pt\").to(device)\n",
    "\n",
    "# 画像特徴量（ベクトル）を抽出\n",
    "with torch.no_grad():\n",
    "    image_features = model.get_image_features(**image)\n"
   ]
  },
  {
   "cell_type": "code",
   "execution_count": null,
   "id": "a27fcc89-3a73-4ab0-9def-16403b185f41",
   "metadata": {},
   "outputs": [],
   "source": [
    "# ベクトルのフォーマット変換(Pytorchテンソル > カンマ区切りの文字列)\n",
    "float_list = image_features[0].cpu().tolist()\n",
    "emb_str = \",\".join(map(str, float_list)) \n",
    "\n",
    "# IRISに接続\n",
    "conn = iris.connect(IRIS_CONN_STR, IRIS_USER, IRIS_PASSWORD)\n",
    "\n",
    "# 指定画像に類似するテキストを取得\n",
    "info = get_similar_desc(conn, emb_str)\n",
    "print(info)\n"
   ]
  },
  {
   "cell_type": "markdown",
   "id": "260d29a3-0ea7-4bc0-ad84-fecfb9ce7e47",
   "metadata": {},
   "source": [
    "# \n",
    "# \n",
    "# \n",
    "\n",
    "### 正解は・・"
   ]
  },
  {
   "cell_type": "code",
   "execution_count": null,
   "id": "475e9c13-fae3-4b9c-89b6-308fff2de987",
   "metadata": {},
   "outputs": [],
   "source": [
    "# 魚1の正解\n",
    "#image_path = \"../datasets/super/truth/3-GroundTruth1_IMG_20250712_173303940_AE.jpg\"\n",
    "\n",
    "# 魚2の正解\n",
    "image_path = \"../datasets/super/truth/4-GroundTruth2IMG_20250712_173334354_AE.jpg\"\n",
    "\n",
    "image = Image.open(image_path)\n",
    "# イメージを表示\n",
    "image.thumbnail((700, 700))\n",
    "image"
   ]
  }
 ],
 "metadata": {
  "kernelspec": {
   "display_name": "Python 3 (ipykernel)",
   "language": "python",
   "name": "python3"
  },
  "language_info": {
   "codemirror_mode": {
    "name": "ipython",
    "version": 3
   },
   "file_extension": ".py",
   "mimetype": "text/x-python",
   "name": "python",
   "nbconvert_exporter": "python",
   "pygments_lexer": "ipython3",
   "version": "3.13.1"
  }
 },
 "nbformat": 4,
 "nbformat_minor": 5
}
