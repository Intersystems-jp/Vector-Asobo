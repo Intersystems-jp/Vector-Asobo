{
 "cells": [
  {
   "cell_type": "code",
   "execution_count": 3,
   "id": "db9c40f2-34b6-463f-8c77-206647fa7d03",
   "metadata": {},
   "outputs": [],
   "source": [
    "from iris_config import IRIS_USER, IRIS_PASSWORD, IRIS_CONN_STR"
   ]
  },
  {
   "cell_type": "code",
   "execution_count": 7,
   "id": "c5c74519-27a6-4945-a144-3249a3d4ee1d",
   "metadata": {},
   "outputs": [],
   "source": [
    "import iris "
   ]
  },
  {
   "cell_type": "code",
   "execution_count": 4,
   "id": "c7ccd906-a06a-4c53-8fca-8f58d93c695a",
   "metadata": {},
   "outputs": [],
   "source": [
    "def truncate_fish_table():\n",
    "    \"\"\"\n",
    "    FishSearch.Fish テーブルの全レコードを削除（TRUNCATE）。\n",
    "    \"\"\"\n",
    "    conn = iris.connect(IRIS_CONN_STR, IRIS_USER, IRIS_PASSWORD)\n",
    "    cur = conn.cursor()\n",
    "\n",
    "    try:\n",
    "        cur.execute(\"TRUNCATE TABLE FishSearch.Fish\")\n",
    "        conn.commit()\n",
    "        print(\"Fish テーブルを初期化しました。\")\n",
    "    finally:\n",
    "        cur.close()\n",
    "        conn.close()"
   ]
  },
  {
   "cell_type": "code",
   "execution_count": 5,
   "id": "4dc7bbeb-b3cd-4252-8c72-ff157643eb29",
   "metadata": {},
   "outputs": [],
   "source": [
    "def truncate_fishimage_table():\n",
    "    \"\"\"\n",
    "    FishSearch.FishImage テーブルの全レコードを削除（TRUNCATE）。\n",
    "    \"\"\"\n",
    "    conn = iris.connect(IRIS_CONN_STR, IRIS_USER, IRIS_PASSWORD)\n",
    "    cur = conn.cursor()\n",
    "\n",
    "    try:\n",
    "        cur.execute(\"TRUNCATE TABLE FishSearch.FishImage\")\n",
    "        conn.commit()\n",
    "        print(\"FishImage テーブルを初期化しました。\")\n",
    "    finally:\n",
    "        cur.close()\n",
    "        conn.close()\n"
   ]
  },
  {
   "cell_type": "code",
   "execution_count": 13,
   "id": "058449c4-9dbe-4e30-9635-18d122f2a458",
   "metadata": {},
   "outputs": [],
   "source": [
    "def drop_fish_table():\n",
    "    \"\"\"\n",
    "    FishSearch.Fish テーブルを削除（DROP）。\n",
    "    \"\"\"\n",
    "    conn = iris.connect(IRIS_CONN_STR, IRIS_USER, IRIS_PASSWORD)\n",
    "    cur = conn.cursor()\n",
    "\n",
    "    try:\n",
    "        cur.execute(\"DROP TABLE FishSearch.Fish\")\n",
    "        conn.commit()\n",
    "        print(\"Fish テーブルを削除しました。\")\n",
    "    finally:\n",
    "        cur.close()\n",
    "        conn.close()"
   ]
  },
  {
   "cell_type": "code",
   "execution_count": 14,
   "id": "6bf23fad-3f22-4a47-b5c9-9de26be6e095",
   "metadata": {},
   "outputs": [],
   "source": [
    "def drop_fishimage_table():\n",
    "    \"\"\"\n",
    "    FishSearch.FishImage テーブルを削除（DROP）。\n",
    "    \"\"\"\n",
    "    conn = iris.connect(IRIS_CONN_STR, IRIS_USER, IRIS_PASSWORD)\n",
    "    cur = conn.cursor()\n",
    "\n",
    "    try:\n",
    "        cur.execute(\"DROP TABLE FishSearch.FishImage\")\n",
    "        conn.commit()\n",
    "        print(\"FishImage テーブルを削除しました。\")\n",
    "    finally:\n",
    "        cur.close()\n",
    "        conn.close()"
   ]
  },
  {
   "cell_type": "code",
   "execution_count": 15,
   "id": "30b13003-c064-447c-beea-689be9ef1207",
   "metadata": {},
   "outputs": [
    {
     "name": "stdout",
     "output_type": "stream",
     "text": [
      "Fish テーブルを初期化しました。\n"
     ]
    }
   ],
   "source": [
    "# Fishテーブルデータ削除\n",
    "truncate_fish_table()"
   ]
  },
  {
   "cell_type": "code",
   "execution_count": 16,
   "id": "f597100a-80bc-4b0b-b023-7604868c87c7",
   "metadata": {},
   "outputs": [
    {
     "name": "stdout",
     "output_type": "stream",
     "text": [
      "FishImage テーブルを初期化しました。\n"
     ]
    }
   ],
   "source": [
    "# FishImageテーブルデータ削除\n",
    "truncate_fishimage_table()"
   ]
  },
  {
   "cell_type": "code",
   "execution_count": 17,
   "id": "cdf42e4a-8bce-4581-9fd4-d2c3155da799",
   "metadata": {},
   "outputs": [
    {
     "name": "stdout",
     "output_type": "stream",
     "text": [
      "Fish テーブルを削除しました。\n"
     ]
    }
   ],
   "source": [
    "# Fishテーブル削除\n",
    "drop_fish_table()"
   ]
  },
  {
   "cell_type": "code",
   "execution_count": 18,
   "id": "6a799357-094b-443b-b76c-2f4ad93c03f7",
   "metadata": {},
   "outputs": [
    {
     "name": "stdout",
     "output_type": "stream",
     "text": [
      "FishImage テーブルを削除しました。\n"
     ]
    }
   ],
   "source": [
    "# Fishテーブル削除\n",
    "drop_fishimage_table()"
   ]
  },
  {
   "cell_type": "code",
   "execution_count": null,
   "id": "5ace1965-087c-49d9-824d-6c15b33c9c01",
   "metadata": {},
   "outputs": [],
   "source": []
  }
 ],
 "metadata": {
  "kernelspec": {
   "display_name": "Python 3 (ipykernel)",
   "language": "python",
   "name": "python3"
  },
  "language_info": {
   "codemirror_mode": {
    "name": "ipython",
    "version": 3
   },
   "file_extension": ".py",
   "mimetype": "text/x-python",
   "name": "python",
   "nbconvert_exporter": "python",
   "pygments_lexer": "ipython3",
   "version": "3.13.1"
  }
 },
 "nbformat": 4,
 "nbformat_minor": 5
}
