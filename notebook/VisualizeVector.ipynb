{
 "cells": [
  {
   "cell_type": "markdown",
   "id": "30b340af-1772-4791-b020-b5e85d3220ec",
   "metadata": {},
   "source": [
    "\n",
    "# ベクトルの可視化"
   ]
  },
  {
   "cell_type": "code",
   "execution_count": 1,
   "id": "81ba30c7-ba46-46ee-b016-a031290edb3e",
   "metadata": {
    "scrolled": true
   },
   "outputs": [
    {
     "name": "stdout",
     "output_type": "stream",
     "text": [
      "Requirement already satisfied: umap-learn in /Users/hunoura/Work/FishSearch/fish2env/lib/python3.13/site-packages (0.5.9.post2)\n",
      "Requirement already satisfied: numpy>=1.23 in /Users/hunoura/Work/FishSearch/fish2env/lib/python3.13/site-packages (from umap-learn) (2.2.6)\n",
      "Requirement already satisfied: scipy>=1.3.1 in /Users/hunoura/Work/FishSearch/fish2env/lib/python3.13/site-packages (from umap-learn) (1.16.0)\n",
      "Requirement already satisfied: scikit-learn>=1.6 in /Users/hunoura/Work/FishSearch/fish2env/lib/python3.13/site-packages (from umap-learn) (1.7.1)\n",
      "Requirement already satisfied: numba>=0.51.2 in /Users/hunoura/Work/FishSearch/fish2env/lib/python3.13/site-packages (from umap-learn) (0.61.2)\n",
      "Requirement already satisfied: pynndescent>=0.5 in /Users/hunoura/Work/FishSearch/fish2env/lib/python3.13/site-packages (from umap-learn) (0.5.13)\n",
      "Requirement already satisfied: tqdm in /Users/hunoura/Work/FishSearch/fish2env/lib/python3.13/site-packages (from umap-learn) (4.67.1)\n",
      "Requirement already satisfied: llvmlite<0.45,>=0.44.0dev0 in /Users/hunoura/Work/FishSearch/fish2env/lib/python3.13/site-packages (from numba>=0.51.2->umap-learn) (0.44.0)\n",
      "Requirement already satisfied: joblib>=0.11 in /Users/hunoura/Work/FishSearch/fish2env/lib/python3.13/site-packages (from pynndescent>=0.5->umap-learn) (1.5.1)\n",
      "Requirement already satisfied: threadpoolctl>=3.1.0 in /Users/hunoura/Work/FishSearch/fish2env/lib/python3.13/site-packages (from scikit-learn>=1.6->umap-learn) (3.6.0)\n",
      "\n",
      "\u001b[1m[\u001b[0m\u001b[34;49mnotice\u001b[0m\u001b[1;39;49m]\u001b[0m\u001b[39;49m A new release of pip is available: \u001b[0m\u001b[31;49m24.3.1\u001b[0m\u001b[39;49m -> \u001b[0m\u001b[32;49m25.1.1\u001b[0m\n",
      "\u001b[1m[\u001b[0m\u001b[34;49mnotice\u001b[0m\u001b[1;39;49m]\u001b[0m\u001b[39;49m To update, run: \u001b[0m\u001b[32;49mpip install --upgrade pip\u001b[0m\n",
      "Requirement already satisfied: plotly in /Users/hunoura/Work/FishSearch/fish2env/lib/python3.13/site-packages (6.2.0)\n",
      "Requirement already satisfied: narwhals>=1.15.1 in /Users/hunoura/Work/FishSearch/fish2env/lib/python3.13/site-packages (from plotly) (1.48.1)\n",
      "Requirement already satisfied: packaging in /Users/hunoura/Work/FishSearch/fish2env/lib/python3.13/site-packages (from plotly) (25.0)\n",
      "\n",
      "\u001b[1m[\u001b[0m\u001b[34;49mnotice\u001b[0m\u001b[1;39;49m]\u001b[0m\u001b[39;49m A new release of pip is available: \u001b[0m\u001b[31;49m24.3.1\u001b[0m\u001b[39;49m -> \u001b[0m\u001b[32;49m25.1.1\u001b[0m\n",
      "\u001b[1m[\u001b[0m\u001b[34;49mnotice\u001b[0m\u001b[1;39;49m]\u001b[0m\u001b[39;49m To update, run: \u001b[0m\u001b[32;49mpip install --upgrade pip\u001b[0m\n",
      "Requirement already satisfied: pandas in /Users/hunoura/Work/FishSearch/fish2env/lib/python3.13/site-packages (2.3.1)\n",
      "Requirement already satisfied: numpy>=1.26.0 in /Users/hunoura/Work/FishSearch/fish2env/lib/python3.13/site-packages (from pandas) (2.2.6)\n",
      "Requirement already satisfied: python-dateutil>=2.8.2 in /Users/hunoura/Work/FishSearch/fish2env/lib/python3.13/site-packages (from pandas) (2.9.0.post0)\n",
      "Requirement already satisfied: pytz>=2020.1 in /Users/hunoura/Work/FishSearch/fish2env/lib/python3.13/site-packages (from pandas) (2025.2)\n",
      "Requirement already satisfied: tzdata>=2022.7 in /Users/hunoura/Work/FishSearch/fish2env/lib/python3.13/site-packages (from pandas) (2025.2)\n",
      "Requirement already satisfied: six>=1.5 in /Users/hunoura/Work/FishSearch/fish2env/lib/python3.13/site-packages (from python-dateutil>=2.8.2->pandas) (1.17.0)\n",
      "\n",
      "\u001b[1m[\u001b[0m\u001b[34;49mnotice\u001b[0m\u001b[1;39;49m]\u001b[0m\u001b[39;49m A new release of pip is available: \u001b[0m\u001b[31;49m24.3.1\u001b[0m\u001b[39;49m -> \u001b[0m\u001b[32;49m25.1.1\u001b[0m\n",
      "\u001b[1m[\u001b[0m\u001b[34;49mnotice\u001b[0m\u001b[1;39;49m]\u001b[0m\u001b[39;49m To update, run: \u001b[0m\u001b[32;49mpip install --upgrade pip\u001b[0m\n"
     ]
    }
   ],
   "source": [
    "!pip install umap-learn\n",
    "!pip install plotly\n",
    "!pip install pandas"
   ]
  },
  {
   "cell_type": "code",
   "execution_count": 28,
   "id": "579306a9-22c1-4cbf-9d39-a2215a7cbbb4",
   "metadata": {
    "scrolled": true
   },
   "outputs": [],
   "source": [
    "import iris \n",
    "import umap.umap_ as umap\n",
    "import numpy as np\n",
    "import plotly.express as px\n",
    "import pandas as pd\n",
    "import plotly.io as pio"
   ]
  },
  {
   "cell_type": "code",
   "execution_count": 29,
   "id": "24b6317b-0056-42cd-9aa6-9c130db204a1",
   "metadata": {},
   "outputs": [],
   "source": [
    "# 接続情報\n",
    "from iris_config import IRIS_USER, IRIS_PASSWORD, IRIS_CONN_STR\n",
    "\n",
    "# 変換関数：文字列からfloatリストへ変換\n",
    "def parse_vector_string(s):\n",
    "    return [float(x) for x in s.split(',')]\n",
    "\n",
    "# IRISに格納された魚の名前 (もしくは画像)のベクトルを取得\n",
    "def get_vectors(conn, modality):\n",
    "    try:\n",
    "        table = 'FishSearch.Fish' if modality == 1 else 'FishSearch.FishImage'\n",
    "\n",
    "        sql = f\"SELECT Name, Features FROM {table} fish\"\n",
    "\n",
    "        with conn.cursor() as cursor:\n",
    "            cursor.execute(sql)\n",
    "            results = cursor.fetchall()\n",
    "        return results\n",
    "\n",
    "    except Exception as e:\n",
    "        return f\"Error: {str(e)}\""
   ]
  },
  {
   "cell_type": "code",
   "execution_count": 30,
   "id": "cdd48377-47c8-432c-9075-4bd341edce87",
   "metadata": {},
   "outputs": [],
   "source": [
    "\n",
    "# IRISに接続\n",
    "conn = iris.connect(IRIS_CONN_STR, IRIS_USER, IRIS_PASSWORD)\n",
    "\n",
    "modality = 1 # text\n",
    "#modality = 2 # image\n",
    "\n",
    "# IRIS から魚の名前ベクトルを取得\n",
    "info = get_vectors(conn, modality)\n",
    "\n",
    "# ベクトルとラベルを分離\n",
    "labels = [row[0] for row in info]\n",
    "\n",
    "# ベクトルの変換 (文字列からfloatに変換)\n",
    "vectors = [parse_vector_string(row[1]) for row in info]"
   ]
  },
  {
   "cell_type": "code",
   "execution_count": 31,
   "id": "366abd2b-d7bb-4821-b938-ef51ac534fbb",
   "metadata": {},
   "outputs": [],
   "source": [
    "# ３次元のベクトルを可視化 (Plotly)\n",
    "def visualizeVectors3dInteractive (labels, vectors_3d):  \n",
    "\n",
    "    #pio.renderers.default = 'notebook_connected'  # または 'iframe_connected', 'vscode', 'browser'\n",
    "    pio.renderers.default = 'browser' # 別タブで表示\n",
    "    \n",
    "    df_3d = pd.DataFrame(vectors_3d, columns=[\"x\", \"y\", \"z\"])\n",
    "    df_3d[\"label\"] = labels\n",
    "    \n",
    "    fig = px.scatter_3d(df_3d, x=\"x\", y=\"y\", z=\"z\", text=\"label\")\n",
    "    fig.update_traces(marker=dict(size=4))\n",
    "    fig.show()\n",
    "        "
   ]
  },
  {
   "cell_type": "code",
   "execution_count": 32,
   "id": "f968a5bd-368a-4aa5-af8d-3586cebb5594",
   "metadata": {},
   "outputs": [],
   "source": [
    "# UMAPを設定\n",
    "# n_components: 次元数\n",
    "# n_neighbors: 各点の近傍のサイズ \n",
    "## 小さくすると、局所構造が強調され、クラスタが分離されやすい 大きくすると、全体の配置が保存されやすい\n",
    "# min_dist: 埋め込み空間での最小距離 小さくすると密集し、大きくすると散らばる配置となる\n",
    "umap_model_3d =  umap.UMAP(n_components=3, n_neighbors=15, min_dist=0.2, metric='cosine')\n"
   ]
  },
  {
   "cell_type": "code",
   "execution_count": 33,
   "id": "be583740-ee80-4f3f-a937-12851d219d74",
   "metadata": {},
   "outputs": [],
   "source": [
    "# テキストベクトルの次元を削減して 3Dに\n",
    "reduced_3d = umap_model_3d.fit_transform(vectors)\n"
   ]
  },
  {
   "cell_type": "code",
   "execution_count": 34,
   "id": "81624138-b877-4d86-92a4-f7dddb6de920",
   "metadata": {},
   "outputs": [],
   "source": [
    "# テキストベクトルの 3D 可視化 (インタラクティブ)\n",
    "visualizeVectors3dInteractive (labels, reduced_3d)"
   ]
  },
  {
   "cell_type": "markdown",
   "id": "bc6005d9-8ae5-4d97-abfe-985ac8713cf3",
   "metadata": {},
   "source": [
    "### イメージ ベクトルの可視化"
   ]
  },
  {
   "cell_type": "code",
   "execution_count": 14,
   "id": "fb43c26c-238e-4f2e-a7a1-0146f218face",
   "metadata": {},
   "outputs": [],
   "source": [
    "modality = 2 # image\n",
    "\n",
    "# IRIS に格納された画像ベクトルを取得\n",
    "image_info = get_vectors(conn, modality)\n",
    "\n",
    "# ベクトルとラベルを分離\n",
    "image_labels = [row[0] for row in image_info]\n",
    "#vectors = [row[1] for row in info]\n",
    "# ベクトルの変換 (文字列からfloatに変換)\n",
    "image_vectors = [parse_vector_string(row[1]) for row in image_info]"
   ]
  },
  {
   "cell_type": "code",
   "execution_count": null,
   "id": "897adb9b-ea3a-4108-aaaf-12bcf47fea3e",
   "metadata": {},
   "outputs": [],
   "source": [
    "# 次元削減して3次元に\n",
    "image_reduced_3d = umap_model_3d.fit_transform(image_vectors)"
   ]
  },
  {
   "cell_type": "code",
   "execution_count": 16,
   "id": "890d41de-8bad-41aa-8776-42dac895861d",
   "metadata": {},
   "outputs": [],
   "source": [
    "# 画像ベクトルの 3D 可視化 (インタラクティブ)\n",
    "visualizeVectors3dInteractive (image_labels, image_reduced_3d)"
   ]
  },
  {
   "cell_type": "markdown",
   "id": "39c756a8-a22e-4a66-a93e-0f0f7ee7a0de",
   "metadata": {},
   "source": [
    "### イメージとテキストのベクトルを同じ空間で可視化"
   ]
  },
  {
   "cell_type": "code",
   "execution_count": 11,
   "id": "bf1cb411-438d-4f03-a350-b3d67cbbcc50",
   "metadata": {},
   "outputs": [],
   "source": [
    "# ベクトルの統合(画像+テキスト) \n",
    "multi_modal_vectors = vectors + image_vectors\n",
    "multi_modal_labels = labels + image_labels"
   ]
  },
  {
   "cell_type": "code",
   "execution_count": null,
   "id": "f2e391cf-0d89-4a53-8fe9-cdaf42325ae7",
   "metadata": {},
   "outputs": [],
   "source": [
    "\n",
    "# UMAPの設定\n",
    "# n_components: 次元数\n",
    "# n_neighbors: 各点の近傍のサイズ \n",
    "## 小さくすると、局所構造が強調され、クラスタが分離されやすい 大きくすると、全体の配置が保存されやすい\n",
    "# min_dist: 埋め込み空間での最小距離 小さくすると密集し、大きくすると散らばる配置となる\n",
    "umap_model_3d =  umap.UMAP(n_components=3, n_neighbors=70, min_dist=0.1, metric='cosine')\n",
    "\n",
    "\n",
    "# 画像+テキスト ベクトルを次元削減して3次元に\n",
    "multi_modal_reduced_3d = umap_model_3d.fit_transform(multi_modal_vectors)"
   ]
  },
  {
   "cell_type": "code",
   "execution_count": 13,
   "id": "22464f8f-b8a5-4bde-be5e-d38cbb5684fa",
   "metadata": {},
   "outputs": [],
   "source": [
    "# 画像+テキスト ベクトルの 3D 可視化 (インタラクティブ) ※画像とテキストが離れて表示されるのは、モダリティギャップという現象です\n",
    "visualizeVectors3dInteractive (multi_modal_labels, multi_modal_reduced_3d)"
   ]
  },
  {
   "cell_type": "markdown",
   "id": "0b49d294-855f-43be-85c4-6c6e97ba4072",
   "metadata": {},
   "source": [
    "# クラスタリング\n"
   ]
  },
  {
   "cell_type": "code",
   "execution_count": 35,
   "id": "eb544af4-0046-4132-93fc-97976d7ea355",
   "metadata": {},
   "outputs": [],
   "source": [
    "from sklearn.cluster import KMeans\n",
    "\n",
    "# クラスタ数(K)を設定\n",
    "n_clusters = 5\n",
    "kmeans = KMeans(n_clusters=n_clusters, random_state=5)\n",
    "cluster_labels = kmeans.fit_predict(vectors)"
   ]
  },
  {
   "cell_type": "code",
   "execution_count": 36,
   "id": "73f03013-b7dd-4bbc-8b1b-2fa475c3baa5",
   "metadata": {},
   "outputs": [],
   "source": [
    "\n",
    "def visualizeVectors3dInteractive_with_clusters(labels, vectors_3d, cluster_labels):\n",
    "    pio.renderers.default = 'browser'\n",
    "\n",
    "    # データフレーム作成\n",
    "    df_3d = pd.DataFrame(vectors_3d, columns=[\"x\", \"y\", \"z\"])\n",
    "    df_3d[\"label\"] = labels\n",
    "    df_3d[\"cluster\"] = cluster_labels\n",
    "\n",
    "    # 3D散布図（クラスタごとに色分け）\n",
    "    fig = px.scatter_3d(\n",
    "        df_3d,\n",
    "        x=\"x\", y=\"y\", z=\"z\",\n",
    "        color=\"cluster\",              # クラスタごとに色分け\n",
    "        text=\"label\",                 # ラベル表示\n",
    "        symbol=\"cluster\",             # オプション：クラスタごとにマーカーも変える\n",
    "    )\n",
    "    \n",
    "    fig.update_traces(marker=dict(size=5))\n",
    "    fig.update_layout(title=\"3D UMAP (with Clusters)\", legend_title=\"Cluster\")\n",
    "    fig.show()"
   ]
  },
  {
   "cell_type": "code",
   "execution_count": 37,
   "id": "6e41e4fe-e902-431f-8483-72dc53e9f47c",
   "metadata": {},
   "outputs": [],
   "source": [
    "visualizeVectors3dInteractive_with_clusters(labels, reduced_3d, cluster_labels)"
   ]
  },
  {
   "cell_type": "code",
   "execution_count": 38,
   "id": "dc03639a-2c4c-435f-9b35-9969a3f1954e",
   "metadata": {},
   "outputs": [],
   "source": [
    "# クラスタ数(K)を再設定\n",
    "n_clusters = 11\n",
    "kmeans = KMeans(n_clusters=n_clusters, random_state=42)\n",
    "cluster_labels = kmeans.fit_predict(vectors)"
   ]
  },
  {
   "cell_type": "code",
   "execution_count": 39,
   "id": "660f2b86-6b24-451d-b4e2-54abebab688f",
   "metadata": {},
   "outputs": [],
   "source": [
    "visualizeVectors3dInteractive_with_clusters(labels, reduced_3d, cluster_labels)"
   ]
  },
  {
   "cell_type": "markdown",
   "id": "207bc1a1-cefd-4123-9256-fdb5c2156a93",
   "metadata": {},
   "source": [
    "### アノマリ検知"
   ]
  },
  {
   "cell_type": "raw",
   "id": "6eff8dd1-e617-46ba-89d7-4cd5a0a9fab0",
   "metadata": {},
   "source": [
    "-- アノマリ検知 SQL\n",
    "\n",
    "--   お手本データのいずれにも類似していないものをアノマリとする\n",
    "\n",
    "--   ここでは、マアジ、ボタンエビ、マダコをお手本としてこれらとの類似度のうち最大値 をMOST_SIMALARとし、MOST_SIMALARが低い順に並び替えを行う\n",
    "--   これにより、お手本データのいずれにも類似していないデータを抽出する\n",
    "\n",
    "SELECT TOP 5 id, name,\n",
    " VECTOR_COSINE(features, (SELECT features from FishSearch.Fish where name='マアジ')) as AjiSimilarity, -- マアジとの類似度を表示\n",
    " VECTOR_COSINE(features, (SELECT features from FishSearch.Fish where name='ボタンエビ')) as EbiSimilarity, --  ボタンエビとの類似度を表示\n",
    "VECTOR_COSINE(features, (SELECT features from FishSearch.Fish where name='マダコ')) as TakoSimilarity --  マダコとの類似度を表示\n",
    ",\n",
    " GREATEST(\n",
    " VECTOR_COSINE(features, (SELECT features from FishSearch.Fish where name='マアジ')) ,\n",
    "VECTOR_COSINE(features, (SELECT features from FishSearch.Fish where name='ボタンエビ')),\n",
    "VECTOR_COSINE(features, (SELECT features from FishSearch.Fish where name='マダコ')))\n",
    " AS MOST_SIMILAR -- マアジ、ボタンエビ、マダコとの類似度のうち最も高い類似度(MOST_SIMALAR)を表示\n",
    "\n",
    "FROM FishSearch.Fish fish\n",
    "\n",
    "ORDER BY MOST_SIMILAR -- MOST_SIMALARが低い順に並び替え \n",
    "\n",
    "ASC\n"
   ]
  }
 ],
 "metadata": {
  "kernelspec": {
   "display_name": "Python 3 (ipykernel)",
   "language": "python",
   "name": "python3"
  },
  "language_info": {
   "codemirror_mode": {
    "name": "ipython",
    "version": 3
   },
   "file_extension": ".py",
   "mimetype": "text/x-python",
   "name": "python",
   "nbconvert_exporter": "python",
   "pygments_lexer": "ipython3",
   "version": "3.13.1"
  }
 },
 "nbformat": 4,
 "nbformat_minor": 5
}
